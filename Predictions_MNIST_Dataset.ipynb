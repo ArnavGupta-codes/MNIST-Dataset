{
  "nbformat": 4,
  "nbformat_minor": 0,
  "metadata": {
    "colab": {
      "provenance": [],
      "gpuType": "T4",
      "authorship_tag": "ABX9TyOKtEU5/BObChJbRUOXFmXf",
      "include_colab_link": true
    },
    "kernelspec": {
      "name": "python3",
      "display_name": "Python 3"
    },
    "language_info": {
      "name": "python"
    },
    "accelerator": "GPU"
  },
  "cells": [
    {
      "cell_type": "markdown",
      "metadata": {
        "id": "view-in-github",
        "colab_type": "text"
      },
      "source": [
        "<a href=\"https://colab.research.google.com/github/ArnavGupta-codes/MNIST-Dataset/blob/main/Predictions_MNIST_Dataset.ipynb\" target=\"_parent\"><img src=\"https://colab.research.google.com/assets/colab-badge.svg\" alt=\"Open In Colab\"/></a>"
      ]
    },
    {
      "cell_type": "markdown",
      "source": [
        "# Things Learned:\n",
        "- How we are predicting values based on just maths actually\n",
        "- Could have stopped the no. of iterations before coz there was not much change in loss\n",
        "- Visualizing Data is very important\n",
        "- Things more to learn how can we select a better model, although we will have to then also calc training loss and cross validation loss to figure out the better one.\n",
        "- Coding only using numpy gave more understanding of how using maths we are creating these\n",
        "- Basically we initialize W and b and parameters, then find the value then using back prop we find the direction in which if we go then we will get better values, we update the value and run a gradient descent which in each iteration does this thing, to lower the value of loss function.\n",
        "\n",
        "This is the file for train, test, sample submission files downloaded from the google drive given in the assignment, IT also contains the final submission file for prediction on the test set ( Link: \"https://drive.google.com/drive/u/0/folders/1LcrjLCoCoh_V7tSGTK4fVVFNd3BarvtY\")"
      ],
      "metadata": {
        "id": "3uZYEMfSZjFb"
      }
    },
    {
      "cell_type": "markdown",
      "source": [
        "### 1. Importing Libraries and Data"
      ],
      "metadata": {
        "id": "En-t5S6K_IgK"
      }
    },
    {
      "cell_type": "code",
      "execution_count": null,
      "metadata": {
        "id": "pVZP7AzMwf2K"
      },
      "outputs": [],
      "source": [
        " import numpy as np\n",
        " import pandas as pd\n",
        " import matplotlib.pyplot as plt"
      ]
    },
    {
      "cell_type": "code",
      "source": [
        "from google.colab import files\n",
        "uploaded = files.upload()"
      ],
      "metadata": {
        "colab": {
          "base_uri": "https://localhost:8080/",
          "height": 144
        },
        "id": "XrThEoTY7285",
        "outputId": "e56e7024-9a23-4909-fe1b-3f66d766bc40"
      },
      "execution_count": null,
      "outputs": [
        {
          "output_type": "display_data",
          "data": {
            "text/plain": [
              "<IPython.core.display.HTML object>"
            ],
            "text/html": [
              "\n",
              "     <input type=\"file\" id=\"files-dc3508cc-fc16-4d1f-a03f-0f8e30546c61\" name=\"files[]\" multiple disabled\n",
              "        style=\"border:none\" />\n",
              "     <output id=\"result-dc3508cc-fc16-4d1f-a03f-0f8e30546c61\">\n",
              "      Upload widget is only available when the cell has been executed in the\n",
              "      current browser session. Please rerun this cell to enable.\n",
              "      </output>\n",
              "      <script>// Copyright 2017 Google LLC\n",
              "//\n",
              "// Licensed under the Apache License, Version 2.0 (the \"License\");\n",
              "// you may not use this file except in compliance with the License.\n",
              "// You may obtain a copy of the License at\n",
              "//\n",
              "//      http://www.apache.org/licenses/LICENSE-2.0\n",
              "//\n",
              "// Unless required by applicable law or agreed to in writing, software\n",
              "// distributed under the License is distributed on an \"AS IS\" BASIS,\n",
              "// WITHOUT WARRANTIES OR CONDITIONS OF ANY KIND, either express or implied.\n",
              "// See the License for the specific language governing permissions and\n",
              "// limitations under the License.\n",
              "\n",
              "/**\n",
              " * @fileoverview Helpers for google.colab Python module.\n",
              " */\n",
              "(function(scope) {\n",
              "function span(text, styleAttributes = {}) {\n",
              "  const element = document.createElement('span');\n",
              "  element.textContent = text;\n",
              "  for (const key of Object.keys(styleAttributes)) {\n",
              "    element.style[key] = styleAttributes[key];\n",
              "  }\n",
              "  return element;\n",
              "}\n",
              "\n",
              "// Max number of bytes which will be uploaded at a time.\n",
              "const MAX_PAYLOAD_SIZE = 100 * 1024;\n",
              "\n",
              "function _uploadFiles(inputId, outputId) {\n",
              "  const steps = uploadFilesStep(inputId, outputId);\n",
              "  const outputElement = document.getElementById(outputId);\n",
              "  // Cache steps on the outputElement to make it available for the next call\n",
              "  // to uploadFilesContinue from Python.\n",
              "  outputElement.steps = steps;\n",
              "\n",
              "  return _uploadFilesContinue(outputId);\n",
              "}\n",
              "\n",
              "// This is roughly an async generator (not supported in the browser yet),\n",
              "// where there are multiple asynchronous steps and the Python side is going\n",
              "// to poll for completion of each step.\n",
              "// This uses a Promise to block the python side on completion of each step,\n",
              "// then passes the result of the previous step as the input to the next step.\n",
              "function _uploadFilesContinue(outputId) {\n",
              "  const outputElement = document.getElementById(outputId);\n",
              "  const steps = outputElement.steps;\n",
              "\n",
              "  const next = steps.next(outputElement.lastPromiseValue);\n",
              "  return Promise.resolve(next.value.promise).then((value) => {\n",
              "    // Cache the last promise value to make it available to the next\n",
              "    // step of the generator.\n",
              "    outputElement.lastPromiseValue = value;\n",
              "    return next.value.response;\n",
              "  });\n",
              "}\n",
              "\n",
              "/**\n",
              " * Generator function which is called between each async step of the upload\n",
              " * process.\n",
              " * @param {string} inputId Element ID of the input file picker element.\n",
              " * @param {string} outputId Element ID of the output display.\n",
              " * @return {!Iterable<!Object>} Iterable of next steps.\n",
              " */\n",
              "function* uploadFilesStep(inputId, outputId) {\n",
              "  const inputElement = document.getElementById(inputId);\n",
              "  inputElement.disabled = false;\n",
              "\n",
              "  const outputElement = document.getElementById(outputId);\n",
              "  outputElement.innerHTML = '';\n",
              "\n",
              "  const pickedPromise = new Promise((resolve) => {\n",
              "    inputElement.addEventListener('change', (e) => {\n",
              "      resolve(e.target.files);\n",
              "    });\n",
              "  });\n",
              "\n",
              "  const cancel = document.createElement('button');\n",
              "  inputElement.parentElement.appendChild(cancel);\n",
              "  cancel.textContent = 'Cancel upload';\n",
              "  const cancelPromise = new Promise((resolve) => {\n",
              "    cancel.onclick = () => {\n",
              "      resolve(null);\n",
              "    };\n",
              "  });\n",
              "\n",
              "  // Wait for the user to pick the files.\n",
              "  const files = yield {\n",
              "    promise: Promise.race([pickedPromise, cancelPromise]),\n",
              "    response: {\n",
              "      action: 'starting',\n",
              "    }\n",
              "  };\n",
              "\n",
              "  cancel.remove();\n",
              "\n",
              "  // Disable the input element since further picks are not allowed.\n",
              "  inputElement.disabled = true;\n",
              "\n",
              "  if (!files) {\n",
              "    return {\n",
              "      response: {\n",
              "        action: 'complete',\n",
              "      }\n",
              "    };\n",
              "  }\n",
              "\n",
              "  for (const file of files) {\n",
              "    const li = document.createElement('li');\n",
              "    li.append(span(file.name, {fontWeight: 'bold'}));\n",
              "    li.append(span(\n",
              "        `(${file.type || 'n/a'}) - ${file.size} bytes, ` +\n",
              "        `last modified: ${\n",
              "            file.lastModifiedDate ? file.lastModifiedDate.toLocaleDateString() :\n",
              "                                    'n/a'} - `));\n",
              "    const percent = span('0% done');\n",
              "    li.appendChild(percent);\n",
              "\n",
              "    outputElement.appendChild(li);\n",
              "\n",
              "    const fileDataPromise = new Promise((resolve) => {\n",
              "      const reader = new FileReader();\n",
              "      reader.onload = (e) => {\n",
              "        resolve(e.target.result);\n",
              "      };\n",
              "      reader.readAsArrayBuffer(file);\n",
              "    });\n",
              "    // Wait for the data to be ready.\n",
              "    let fileData = yield {\n",
              "      promise: fileDataPromise,\n",
              "      response: {\n",
              "        action: 'continue',\n",
              "      }\n",
              "    };\n",
              "\n",
              "    // Use a chunked sending to avoid message size limits. See b/62115660.\n",
              "    let position = 0;\n",
              "    do {\n",
              "      const length = Math.min(fileData.byteLength - position, MAX_PAYLOAD_SIZE);\n",
              "      const chunk = new Uint8Array(fileData, position, length);\n",
              "      position += length;\n",
              "\n",
              "      const base64 = btoa(String.fromCharCode.apply(null, chunk));\n",
              "      yield {\n",
              "        response: {\n",
              "          action: 'append',\n",
              "          file: file.name,\n",
              "          data: base64,\n",
              "        },\n",
              "      };\n",
              "\n",
              "      let percentDone = fileData.byteLength === 0 ?\n",
              "          100 :\n",
              "          Math.round((position / fileData.byteLength) * 100);\n",
              "      percent.textContent = `${percentDone}% done`;\n",
              "\n",
              "    } while (position < fileData.byteLength);\n",
              "  }\n",
              "\n",
              "  // All done.\n",
              "  yield {\n",
              "    response: {\n",
              "      action: 'complete',\n",
              "    }\n",
              "  };\n",
              "}\n",
              "\n",
              "scope.google = scope.google || {};\n",
              "scope.google.colab = scope.google.colab || {};\n",
              "scope.google.colab._files = {\n",
              "  _uploadFiles,\n",
              "  _uploadFilesContinue,\n",
              "};\n",
              "})(self);\n",
              "</script> "
            ]
          },
          "metadata": {}
        },
        {
          "output_type": "stream",
          "name": "stdout",
          "text": [
            "Saving sample_submission.csv to sample_submission.csv\n",
            "Saving test.csv to test.csv\n",
            "Saving train.csv to train.csv\n"
          ]
        }
      ]
    },
    {
      "cell_type": "code",
      "source": [
        "data = pd.read_csv('/content/train.csv')"
      ],
      "metadata": {
        "id": "2mygeA568LWx"
      },
      "execution_count": null,
      "outputs": []
    },
    {
      "cell_type": "code",
      "source": [
        "data.head()"
      ],
      "metadata": {
        "colab": {
          "base_uri": "https://localhost:8080/",
          "height": 255
        },
        "id": "2pIYz7ht8WON",
        "outputId": "a2f1160b-de11-4d98-a76d-841b7eb4b134"
      },
      "execution_count": null,
      "outputs": [
        {
          "output_type": "execute_result",
          "data": {
            "text/plain": [
              "   label  pixel0  pixel1  pixel2  pixel3  pixel4  pixel5  pixel6  pixel7  \\\n",
              "0      1       0       0       0       0       0       0       0       0   \n",
              "1      0       0       0       0       0       0       0       0       0   \n",
              "2      1       0       0       0       0       0       0       0       0   \n",
              "3      4       0       0       0       0       0       0       0       0   \n",
              "4      0       0       0       0       0       0       0       0       0   \n",
              "\n",
              "   pixel8  ...  pixel774  pixel775  pixel776  pixel777  pixel778  pixel779  \\\n",
              "0       0  ...         0         0         0         0         0         0   \n",
              "1       0  ...         0         0         0         0         0         0   \n",
              "2       0  ...         0         0         0         0         0         0   \n",
              "3       0  ...         0         0         0         0         0         0   \n",
              "4       0  ...         0         0         0         0         0         0   \n",
              "\n",
              "   pixel780  pixel781  pixel782  pixel783  \n",
              "0         0         0         0         0  \n",
              "1         0         0         0         0  \n",
              "2         0         0         0         0  \n",
              "3         0         0         0         0  \n",
              "4         0         0         0         0  \n",
              "\n",
              "[5 rows x 785 columns]"
            ],
            "text/html": [
              "\n",
              "  <div id=\"df-6d100331-a928-4785-baa4-5f0e8fe7d5f7\" class=\"colab-df-container\">\n",
              "    <div>\n",
              "<style scoped>\n",
              "    .dataframe tbody tr th:only-of-type {\n",
              "        vertical-align: middle;\n",
              "    }\n",
              "\n",
              "    .dataframe tbody tr th {\n",
              "        vertical-align: top;\n",
              "    }\n",
              "\n",
              "    .dataframe thead th {\n",
              "        text-align: right;\n",
              "    }\n",
              "</style>\n",
              "<table border=\"1\" class=\"dataframe\">\n",
              "  <thead>\n",
              "    <tr style=\"text-align: right;\">\n",
              "      <th></th>\n",
              "      <th>label</th>\n",
              "      <th>pixel0</th>\n",
              "      <th>pixel1</th>\n",
              "      <th>pixel2</th>\n",
              "      <th>pixel3</th>\n",
              "      <th>pixel4</th>\n",
              "      <th>pixel5</th>\n",
              "      <th>pixel6</th>\n",
              "      <th>pixel7</th>\n",
              "      <th>pixel8</th>\n",
              "      <th>...</th>\n",
              "      <th>pixel774</th>\n",
              "      <th>pixel775</th>\n",
              "      <th>pixel776</th>\n",
              "      <th>pixel777</th>\n",
              "      <th>pixel778</th>\n",
              "      <th>pixel779</th>\n",
              "      <th>pixel780</th>\n",
              "      <th>pixel781</th>\n",
              "      <th>pixel782</th>\n",
              "      <th>pixel783</th>\n",
              "    </tr>\n",
              "  </thead>\n",
              "  <tbody>\n",
              "    <tr>\n",
              "      <th>0</th>\n",
              "      <td>1</td>\n",
              "      <td>0</td>\n",
              "      <td>0</td>\n",
              "      <td>0</td>\n",
              "      <td>0</td>\n",
              "      <td>0</td>\n",
              "      <td>0</td>\n",
              "      <td>0</td>\n",
              "      <td>0</td>\n",
              "      <td>0</td>\n",
              "      <td>...</td>\n",
              "      <td>0</td>\n",
              "      <td>0</td>\n",
              "      <td>0</td>\n",
              "      <td>0</td>\n",
              "      <td>0</td>\n",
              "      <td>0</td>\n",
              "      <td>0</td>\n",
              "      <td>0</td>\n",
              "      <td>0</td>\n",
              "      <td>0</td>\n",
              "    </tr>\n",
              "    <tr>\n",
              "      <th>1</th>\n",
              "      <td>0</td>\n",
              "      <td>0</td>\n",
              "      <td>0</td>\n",
              "      <td>0</td>\n",
              "      <td>0</td>\n",
              "      <td>0</td>\n",
              "      <td>0</td>\n",
              "      <td>0</td>\n",
              "      <td>0</td>\n",
              "      <td>0</td>\n",
              "      <td>...</td>\n",
              "      <td>0</td>\n",
              "      <td>0</td>\n",
              "      <td>0</td>\n",
              "      <td>0</td>\n",
              "      <td>0</td>\n",
              "      <td>0</td>\n",
              "      <td>0</td>\n",
              "      <td>0</td>\n",
              "      <td>0</td>\n",
              "      <td>0</td>\n",
              "    </tr>\n",
              "    <tr>\n",
              "      <th>2</th>\n",
              "      <td>1</td>\n",
              "      <td>0</td>\n",
              "      <td>0</td>\n",
              "      <td>0</td>\n",
              "      <td>0</td>\n",
              "      <td>0</td>\n",
              "      <td>0</td>\n",
              "      <td>0</td>\n",
              "      <td>0</td>\n",
              "      <td>0</td>\n",
              "      <td>...</td>\n",
              "      <td>0</td>\n",
              "      <td>0</td>\n",
              "      <td>0</td>\n",
              "      <td>0</td>\n",
              "      <td>0</td>\n",
              "      <td>0</td>\n",
              "      <td>0</td>\n",
              "      <td>0</td>\n",
              "      <td>0</td>\n",
              "      <td>0</td>\n",
              "    </tr>\n",
              "    <tr>\n",
              "      <th>3</th>\n",
              "      <td>4</td>\n",
              "      <td>0</td>\n",
              "      <td>0</td>\n",
              "      <td>0</td>\n",
              "      <td>0</td>\n",
              "      <td>0</td>\n",
              "      <td>0</td>\n",
              "      <td>0</td>\n",
              "      <td>0</td>\n",
              "      <td>0</td>\n",
              "      <td>...</td>\n",
              "      <td>0</td>\n",
              "      <td>0</td>\n",
              "      <td>0</td>\n",
              "      <td>0</td>\n",
              "      <td>0</td>\n",
              "      <td>0</td>\n",
              "      <td>0</td>\n",
              "      <td>0</td>\n",
              "      <td>0</td>\n",
              "      <td>0</td>\n",
              "    </tr>\n",
              "    <tr>\n",
              "      <th>4</th>\n",
              "      <td>0</td>\n",
              "      <td>0</td>\n",
              "      <td>0</td>\n",
              "      <td>0</td>\n",
              "      <td>0</td>\n",
              "      <td>0</td>\n",
              "      <td>0</td>\n",
              "      <td>0</td>\n",
              "      <td>0</td>\n",
              "      <td>0</td>\n",
              "      <td>...</td>\n",
              "      <td>0</td>\n",
              "      <td>0</td>\n",
              "      <td>0</td>\n",
              "      <td>0</td>\n",
              "      <td>0</td>\n",
              "      <td>0</td>\n",
              "      <td>0</td>\n",
              "      <td>0</td>\n",
              "      <td>0</td>\n",
              "      <td>0</td>\n",
              "    </tr>\n",
              "  </tbody>\n",
              "</table>\n",
              "<p>5 rows × 785 columns</p>\n",
              "</div>\n",
              "    <div class=\"colab-df-buttons\">\n",
              "\n",
              "  <div class=\"colab-df-container\">\n",
              "    <button class=\"colab-df-convert\" onclick=\"convertToInteractive('df-6d100331-a928-4785-baa4-5f0e8fe7d5f7')\"\n",
              "            title=\"Convert this dataframe to an interactive table.\"\n",
              "            style=\"display:none;\">\n",
              "\n",
              "  <svg xmlns=\"http://www.w3.org/2000/svg\" height=\"24px\" viewBox=\"0 -960 960 960\">\n",
              "    <path d=\"M120-120v-720h720v720H120Zm60-500h600v-160H180v160Zm220 220h160v-160H400v160Zm0 220h160v-160H400v160ZM180-400h160v-160H180v160Zm440 0h160v-160H620v160ZM180-180h160v-160H180v160Zm440 0h160v-160H620v160Z\"/>\n",
              "  </svg>\n",
              "    </button>\n",
              "\n",
              "  <style>\n",
              "    .colab-df-container {\n",
              "      display:flex;\n",
              "      gap: 12px;\n",
              "    }\n",
              "\n",
              "    .colab-df-convert {\n",
              "      background-color: #E8F0FE;\n",
              "      border: none;\n",
              "      border-radius: 50%;\n",
              "      cursor: pointer;\n",
              "      display: none;\n",
              "      fill: #1967D2;\n",
              "      height: 32px;\n",
              "      padding: 0 0 0 0;\n",
              "      width: 32px;\n",
              "    }\n",
              "\n",
              "    .colab-df-convert:hover {\n",
              "      background-color: #E2EBFA;\n",
              "      box-shadow: 0px 1px 2px rgba(60, 64, 67, 0.3), 0px 1px 3px 1px rgba(60, 64, 67, 0.15);\n",
              "      fill: #174EA6;\n",
              "    }\n",
              "\n",
              "    .colab-df-buttons div {\n",
              "      margin-bottom: 4px;\n",
              "    }\n",
              "\n",
              "    [theme=dark] .colab-df-convert {\n",
              "      background-color: #3B4455;\n",
              "      fill: #D2E3FC;\n",
              "    }\n",
              "\n",
              "    [theme=dark] .colab-df-convert:hover {\n",
              "      background-color: #434B5C;\n",
              "      box-shadow: 0px 1px 3px 1px rgba(0, 0, 0, 0.15);\n",
              "      filter: drop-shadow(0px 1px 2px rgba(0, 0, 0, 0.3));\n",
              "      fill: #FFFFFF;\n",
              "    }\n",
              "  </style>\n",
              "\n",
              "    <script>\n",
              "      const buttonEl =\n",
              "        document.querySelector('#df-6d100331-a928-4785-baa4-5f0e8fe7d5f7 button.colab-df-convert');\n",
              "      buttonEl.style.display =\n",
              "        google.colab.kernel.accessAllowed ? 'block' : 'none';\n",
              "\n",
              "      async function convertToInteractive(key) {\n",
              "        const element = document.querySelector('#df-6d100331-a928-4785-baa4-5f0e8fe7d5f7');\n",
              "        const dataTable =\n",
              "          await google.colab.kernel.invokeFunction('convertToInteractive',\n",
              "                                                    [key], {});\n",
              "        if (!dataTable) return;\n",
              "\n",
              "        const docLinkHtml = 'Like what you see? Visit the ' +\n",
              "          '<a target=\"_blank\" href=https://colab.research.google.com/notebooks/data_table.ipynb>data table notebook</a>'\n",
              "          + ' to learn more about interactive tables.';\n",
              "        element.innerHTML = '';\n",
              "        dataTable['output_type'] = 'display_data';\n",
              "        await google.colab.output.renderOutput(dataTable, element);\n",
              "        const docLink = document.createElement('div');\n",
              "        docLink.innerHTML = docLinkHtml;\n",
              "        element.appendChild(docLink);\n",
              "      }\n",
              "    </script>\n",
              "  </div>\n",
              "\n",
              "\n",
              "    <div id=\"df-e15d0511-dfaa-4cac-b906-f05108a725ef\">\n",
              "      <button class=\"colab-df-quickchart\" onclick=\"quickchart('df-e15d0511-dfaa-4cac-b906-f05108a725ef')\"\n",
              "                title=\"Suggest charts\"\n",
              "                style=\"display:none;\">\n",
              "\n",
              "<svg xmlns=\"http://www.w3.org/2000/svg\" height=\"24px\"viewBox=\"0 0 24 24\"\n",
              "     width=\"24px\">\n",
              "    <g>\n",
              "        <path d=\"M19 3H5c-1.1 0-2 .9-2 2v14c0 1.1.9 2 2 2h14c1.1 0 2-.9 2-2V5c0-1.1-.9-2-2-2zM9 17H7v-7h2v7zm4 0h-2V7h2v10zm4 0h-2v-4h2v4z\"/>\n",
              "    </g>\n",
              "</svg>\n",
              "      </button>\n",
              "\n",
              "<style>\n",
              "  .colab-df-quickchart {\n",
              "      --bg-color: #E8F0FE;\n",
              "      --fill-color: #1967D2;\n",
              "      --hover-bg-color: #E2EBFA;\n",
              "      --hover-fill-color: #174EA6;\n",
              "      --disabled-fill-color: #AAA;\n",
              "      --disabled-bg-color: #DDD;\n",
              "  }\n",
              "\n",
              "  [theme=dark] .colab-df-quickchart {\n",
              "      --bg-color: #3B4455;\n",
              "      --fill-color: #D2E3FC;\n",
              "      --hover-bg-color: #434B5C;\n",
              "      --hover-fill-color: #FFFFFF;\n",
              "      --disabled-bg-color: #3B4455;\n",
              "      --disabled-fill-color: #666;\n",
              "  }\n",
              "\n",
              "  .colab-df-quickchart {\n",
              "    background-color: var(--bg-color);\n",
              "    border: none;\n",
              "    border-radius: 50%;\n",
              "    cursor: pointer;\n",
              "    display: none;\n",
              "    fill: var(--fill-color);\n",
              "    height: 32px;\n",
              "    padding: 0;\n",
              "    width: 32px;\n",
              "  }\n",
              "\n",
              "  .colab-df-quickchart:hover {\n",
              "    background-color: var(--hover-bg-color);\n",
              "    box-shadow: 0 1px 2px rgba(60, 64, 67, 0.3), 0 1px 3px 1px rgba(60, 64, 67, 0.15);\n",
              "    fill: var(--button-hover-fill-color);\n",
              "  }\n",
              "\n",
              "  .colab-df-quickchart-complete:disabled,\n",
              "  .colab-df-quickchart-complete:disabled:hover {\n",
              "    background-color: var(--disabled-bg-color);\n",
              "    fill: var(--disabled-fill-color);\n",
              "    box-shadow: none;\n",
              "  }\n",
              "\n",
              "  .colab-df-spinner {\n",
              "    border: 2px solid var(--fill-color);\n",
              "    border-color: transparent;\n",
              "    border-bottom-color: var(--fill-color);\n",
              "    animation:\n",
              "      spin 1s steps(1) infinite;\n",
              "  }\n",
              "\n",
              "  @keyframes spin {\n",
              "    0% {\n",
              "      border-color: transparent;\n",
              "      border-bottom-color: var(--fill-color);\n",
              "      border-left-color: var(--fill-color);\n",
              "    }\n",
              "    20% {\n",
              "      border-color: transparent;\n",
              "      border-left-color: var(--fill-color);\n",
              "      border-top-color: var(--fill-color);\n",
              "    }\n",
              "    30% {\n",
              "      border-color: transparent;\n",
              "      border-left-color: var(--fill-color);\n",
              "      border-top-color: var(--fill-color);\n",
              "      border-right-color: var(--fill-color);\n",
              "    }\n",
              "    40% {\n",
              "      border-color: transparent;\n",
              "      border-right-color: var(--fill-color);\n",
              "      border-top-color: var(--fill-color);\n",
              "    }\n",
              "    60% {\n",
              "      border-color: transparent;\n",
              "      border-right-color: var(--fill-color);\n",
              "    }\n",
              "    80% {\n",
              "      border-color: transparent;\n",
              "      border-right-color: var(--fill-color);\n",
              "      border-bottom-color: var(--fill-color);\n",
              "    }\n",
              "    90% {\n",
              "      border-color: transparent;\n",
              "      border-bottom-color: var(--fill-color);\n",
              "    }\n",
              "  }\n",
              "</style>\n",
              "\n",
              "      <script>\n",
              "        async function quickchart(key) {\n",
              "          const quickchartButtonEl =\n",
              "            document.querySelector('#' + key + ' button');\n",
              "          quickchartButtonEl.disabled = true;  // To prevent multiple clicks.\n",
              "          quickchartButtonEl.classList.add('colab-df-spinner');\n",
              "          try {\n",
              "            const charts = await google.colab.kernel.invokeFunction(\n",
              "                'suggestCharts', [key], {});\n",
              "          } catch (error) {\n",
              "            console.error('Error during call to suggestCharts:', error);\n",
              "          }\n",
              "          quickchartButtonEl.classList.remove('colab-df-spinner');\n",
              "          quickchartButtonEl.classList.add('colab-df-quickchart-complete');\n",
              "        }\n",
              "        (() => {\n",
              "          let quickchartButtonEl =\n",
              "            document.querySelector('#df-e15d0511-dfaa-4cac-b906-f05108a725ef button');\n",
              "          quickchartButtonEl.style.display =\n",
              "            google.colab.kernel.accessAllowed ? 'block' : 'none';\n",
              "        })();\n",
              "      </script>\n",
              "    </div>\n",
              "\n",
              "    </div>\n",
              "  </div>\n"
            ],
            "application/vnd.google.colaboratory.intrinsic+json": {
              "type": "dataframe",
              "variable_name": "data"
            }
          },
          "metadata": {},
          "execution_count": 47
        }
      ]
    },
    {
      "cell_type": "code",
      "source": [
        "data = np.array(data)\n",
        "m, n = data.shape\n",
        "np.random.shuffle(data)\n",
        "\n",
        "data_dev = data[:1000].T\n",
        "print(f\"Data_dev: {data_dev}\")\n",
        "Y_dev = data_dev[0]\n",
        "print(f\"Y_dev: ${Y_dev}\")\n",
        "X_dev = data_dev[1:n]\n",
        "print(f\"X_dev: ${X_dev}\")\n",
        "X_dev = X_dev/ 255.\n",
        "print(f\"X_dev after changes: ${X_dev}\")\n",
        "\n",
        "data_train = data[1000:m].T\n",
        "Y_train = data_train[0]\n",
        "X_train = data_train[1:n]\n",
        "X_train = X_train / 255.\n",
        "_,m_train = X_train.shape"
      ],
      "metadata": {
        "id": "MQ438A9M8gIw",
        "colab": {
          "base_uri": "https://localhost:8080/"
        },
        "outputId": "78b91a99-5707-4aaa-bf55-405cab72a593"
      },
      "execution_count": null,
      "outputs": [
        {
          "output_type": "stream",
          "name": "stdout",
          "text": [
            "Data_dev: [[3 7 1 ... 6 3 0]\n",
            " [0 0 0 ... 0 0 0]\n",
            " [0 0 0 ... 0 0 0]\n",
            " ...\n",
            " [0 0 0 ... 0 0 0]\n",
            " [0 0 0 ... 0 0 0]\n",
            " [0 0 0 ... 0 0 0]]\n",
            "Y_dev: $[3 7 1 2 7 1 3 1 2 4 4 8 9 1 2 7 7 3 6 2 0 0 3 1 1 4 3 7 7 5 4 6 0 2 8 4 1\n",
            " 9 8 0 7 5 3 9 0 7 1 5 1 5 0 2 5 7 5 0 6 0 8 4 7 9 5 5 3 7 5 0 3 5 7 9 9 5\n",
            " 8 3 1 4 2 4 0 4 9 1 5 3 0 6 0 5 3 5 5 3 3 1 9 5 6 5 8 6 2 8 8 8 1 0 2 7 0\n",
            " 8 1 4 6 5 6 7 3 5 1 2 1 9 9 6 8 5 3 4 0 4 5 9 9 0 0 9 8 8 1 5 4 0 1 1 1 9\n",
            " 7 1 2 9 9 9 9 4 9 5 5 0 1 2 8 4 7 7 2 7 7 1 8 6 5 3 4 8 5 1 5 7 4 3 7 1 7\n",
            " 6 4 9 5 3 9 8 7 4 4 3 9 9 5 3 2 1 9 8 1 3 2 7 9 1 6 9 6 3 8 5 9 0 5 8 5 9\n",
            " 8 5 7 2 1 1 9 2 0 4 0 3 0 7 2 7 8 9 9 1 8 7 0 3 8 2 6 3 3 4 6 5 7 7 3 2 0\n",
            " 3 2 3 4 0 7 3 8 4 0 9 7 2 3 4 1 1 3 9 4 3 4 7 2 5 8 1 7 3 9 3 4 2 4 6 6 4\n",
            " 9 0 1 7 3 6 6 7 9 2 6 9 7 3 9 4 6 3 9 2 9 5 4 2 2 3 3 7 4 4 9 6 6 7 6 8 5\n",
            " 1 7 1 2 1 8 2 9 0 1 6 2 9 0 1 1 3 6 4 6 2 0 2 3 3 6 2 7 7 9 6 8 7 8 1 9 7\n",
            " 8 6 6 5 2 3 1 2 4 5 6 3 5 5 7 3 6 0 3 5 4 1 8 6 9 1 7 0 9 4 1 6 3 2 8 2 4\n",
            " 7 3 7 5 1 1 4 5 8 8 9 4 5 6 3 3 0 3 3 3 9 7 7 4 0 2 3 3 3 8 6 9 3 8 0 8 3\n",
            " 6 5 1 1 8 5 8 7 1 3 2 7 2 9 8 5 0 3 9 2 9 4 1 3 6 1 4 8 3 3 1 2 7 0 1 7 2\n",
            " 0 5 6 4 7 8 8 4 7 2 6 7 6 9 6 3 5 5 9 5 4 6 4 1 9 7 0 3 9 8 6 0 9 1 8 3 8\n",
            " 6 2 0 5 6 1 1 4 9 7 1 0 4 4 8 5 8 0 2 6 7 6 8 5 4 5 1 2 7 9 3 4 6 6 2 0 3\n",
            " 2 0 7 8 5 3 6 7 4 5 7 0 5 8 0 2 3 2 5 6 6 7 1 3 1 1 3 9 2 1 2 5 6 0 4 6 2\n",
            " 2 7 7 5 0 1 1 8 9 7 0 0 6 0 8 4 3 1 4 2 4 5 5 6 4 4 2 4 5 9 8 6 6 1 1 5 0\n",
            " 4 5 0 6 1 4 1 3 7 7 2 1 9 6 9 3 5 2 7 9 7 2 8 1 9 7 4 2 9 7 6 1 9 6 6 5 2\n",
            " 5 4 2 7 3 0 6 7 8 2 6 4 0 9 0 5 4 8 3 4 0 2 5 2 4 0 2 1 3 3 8 8 2 7 1 8 7\n",
            " 0 5 2 0 4 0 6 1 4 1 8 3 4 9 0 6 7 3 9 3 2 4 2 5 1 6 4 2 5 9 5 0 4 8 0 3 5\n",
            " 8 7 2 3 7 7 1 0 3 4 7 3 4 5 9 1 6 6 5 2 5 0 9 9 3 9 1 4 2 2 5 3 1 7 6 2 7\n",
            " 9 3 2 1 9 7 1 4 8 0 9 9 4 3 3 8 6 6 8 9 3 6 8 7 0 4 4 9 2 5 1 8 2 5 6 1 2\n",
            " 8 9 0 3 1 6 4 8 8 2 8 1 7 5 4 5 6 3 2 0 5 5 0 9 9 1 1 5 1 2 4 9 4 0 4 9 2\n",
            " 0 4 8 1 2 2 8 4 5 8 2 5 0 3 8 7 7 4 6 6 3 0 8 9 9 1 8 5 8 4 0 9 4 6 4 7 2\n",
            " 1 5 9 4 3 5 7 6 1 1 6 3 0 5 6 4 5 0 7 2 9 9 0 7 1 4 5 3 3 0 9 2 4 1 9 6 2\n",
            " 7 8 9 2 9 8 4 3 1 5 6 3 4 7 7 4 6 3 6 2 9 6 0 2 9 7 5 4 5 3 6 3 7 6 4 9 6\n",
            " 2 4 2 2 3 6 7 0 8 2 7 5 4 6 3 8 6 4 1 4 2 4 8 5 5 6 9 5 9 4 5 0 5 2 9 6 3\n",
            " 0]\n",
            "X_dev: $[[0 0 0 ... 0 0 0]\n",
            " [0 0 0 ... 0 0 0]\n",
            " [0 0 0 ... 0 0 0]\n",
            " ...\n",
            " [0 0 0 ... 0 0 0]\n",
            " [0 0 0 ... 0 0 0]\n",
            " [0 0 0 ... 0 0 0]]\n",
            "X_dev after changes: $[[0. 0. 0. ... 0. 0. 0.]\n",
            " [0. 0. 0. ... 0. 0. 0.]\n",
            " [0. 0. 0. ... 0. 0. 0.]\n",
            " ...\n",
            " [0. 0. 0. ... 0. 0. 0.]\n",
            " [0. 0. 0. ... 0. 0. 0.]\n",
            " [0. 0. 0. ... 0. 0. 0.]]\n"
          ]
        }
      ]
    },
    {
      "cell_type": "markdown",
      "source": [
        "### 2. Model"
      ],
      "metadata": {
        "id": "2gR0Sw6cOTYa"
      }
    },
    {
      "cell_type": "code",
      "source": [
        "# #Visualizing\n",
        "# Y_train\n",
        "# X_train[:, 0].shape"
      ],
      "metadata": {
        "id": "xih0Vii49RcE"
      },
      "execution_count": null,
      "outputs": []
    },
    {
      "cell_type": "code",
      "source": [
        "# # Model 1:\n",
        "# # Overall accuracy is around 89 percent\n",
        "# model = 1\n",
        "# def init_params():\n",
        "#     W1 = np.random.rand(10, 784) - 0.5\n",
        "#     b1 = np.random.rand(10, 1) - 0.5\n",
        "#     W2 = np.random.rand(10, 10) - 0.5\n",
        "#     b2 = np.random.rand(10, 1) - 0.5\n",
        "#     return W1, b1, W2, b2\n",
        "\n",
        "# def ReLU(Z):\n",
        "#   return np.maximum(0, Z)\n",
        "\n",
        "# def softmax(Z):\n",
        "#   expZ = np.exp(Z - np.max(Z, axis=0, keepdims=True))\n",
        "#   return expZ / np.sum(expZ, axis=0, keepdims=True)\n",
        "\n",
        "# def forward_prop(W1,b1, W2, b2, X):\n",
        "#   Z1 = W1.dot(X) + b1\n",
        "#   A1 = ReLU(Z1)\n",
        "#   Z2 = W2.dot(A1) + b2\n",
        "#   A2 = softmax(Z2)\n",
        "#   return Z1, A1, Z2, A2\n",
        "\n",
        "\n",
        "# def one_hot(Y):\n",
        "#   one_hot_Y = np.zeros((Y.size, Y.max()+1))\n",
        "#   one_hot_Y[np.arange(Y.size), Y] = 1\n",
        "#   one_hot_Y = one_hot_Y.T\n",
        "#   return one_hot_Y\n",
        "\n",
        "# def deri_ReLU(Z):\n",
        "#     return Z > 0\n",
        "\n",
        "# def back_prop(Z1, A1, Z2, A2, W2, X, Y):\n",
        "#   m = Y.size\n",
        "#   one_hot_Y = one_hot(Y)\n",
        "#   dZ2 = A2-one_hot_Y\n",
        "#   dW2 = 1/m *dZ2.dot(A1.T)\n",
        "#   db2 = (1/m)* np.sum(dZ2, axis=1,keepdims=True)\n",
        "#   dZ1 = W2.T.dot(dZ2)*deri_ReLU(Z1)\n",
        "#   dW1 = 1/m * dZ1.dot(X.T)\n",
        "#   db1 = (1/m) *np.sum(dZ1, axis=1,keepdims=True)\n",
        "#   return dW1, db1, dW2, db2\n",
        "\n",
        "\n",
        "# def update_params(W1, b1, W2, b2, dW1, db1, dW2, db2, alpha):\n",
        "#     W1 = W1-alpha*dW1\n",
        "#     b1 = b1-alpha*db1\n",
        "#     W2 = W2-alpha*dW2\n",
        "#     b2 = b2-alpha*db2\n",
        "#     return W1, b1, W2, b2"
      ],
      "metadata": {
        "id": "6MS-8wWB-IS6"
      },
      "execution_count": null,
      "outputs": []
    },
    {
      "cell_type": "code",
      "source": [
        "# #Model 2: This did not did that well, on researching fund out that tanh function in general does not does good estimation in multi-classification such as this MNIST Dataset\n",
        "# #Overall accuracy is 55% around\n",
        "# model = 2\n",
        "# def init_params():\n",
        "#     W1 = np.random.rand(10, 784) - 0.5\n",
        "#     b1 = np.random.rand(10, 1) - 0.5\n",
        "#     W2 = np.random.rand(10, 10) - 0.5\n",
        "#     b2 = np.random.rand(10, 1) - 0.5\n",
        "#     return W1, b1, W2, b2\n",
        "\n",
        "# def ReLU(Z):\n",
        "#   return np.maximum(0, Z)\n",
        "\n",
        "# def sigmoid(Z):\n",
        "#   return 1/(1+np.exp(-Z))\n",
        "\n",
        "# def tanh(Z):\n",
        "#   return 2*sigmoid(2*Z)-1\n",
        "\n",
        "# def forward_prop(W1,b1, W2, b2, X):\n",
        "#   Z1 = W1.dot(X) + b1\n",
        "#   A1 = ReLU(Z1)\n",
        "#   Z2 = W2.dot(A1) + b2\n",
        "#   A2 = tanh(Z2)\n",
        "#   return Z1, A1, Z2, A2\n",
        "\n",
        "# def deri_ReLU(Z):\n",
        "#     return Z > 0\n",
        "\n",
        "# def deri_tanh(Z):\n",
        "#     return 1-np.tanh(Z)**2\n",
        "\n",
        "# def one_hot(Y):\n",
        "#   one_hot_Y = np.zeros((Y.size, Y.max()+1))\n",
        "#   one_hot_Y[np.arange(Y.size), Y] = 1\n",
        "#   one_hot_Y = one_hot_Y.T\n",
        "#   return one_hot_Y\n",
        "\n",
        "# def back_prop(Z1, A1, Z2, A2, W2, X, Y):\n",
        "#     m = Y.size\n",
        "#     one_hot_Y = one_hot(Y)\n",
        "#     dA2 = 2*(A2 - one_hot_Y) / m\n",
        "#     dZ2 = dA2*deri_tanh(Z2)\n",
        "#     dW2 = dZ2.dot(A1.T)\n",
        "#     db2 = np.sum(dZ2, axis=1, keepdims=True)\n",
        "#     dZ1 = W2.T.dot(dZ2)* deri_ReLU(Z1)\n",
        "#     dW1 = dZ1.dot(X.T)\n",
        "#     db1 = np.sum(dZ1, axis=1,keepdims=True)\n",
        "#     return dW1, db1, dW2, db2\n",
        "\n",
        "# def update_params(W1, b1, W2, b2, dW1, db1, dW2, db2, alpha):\n",
        "#     W1 = W1-alpha*dW1\n",
        "#     b1 = b1-alpha*db1\n",
        "#     W2 = W2-alpha*dW2\n",
        "#     b2 = b2-alpha*db2\n",
        "#     return W1, b1, W2, b2"
      ],
      "metadata": {
        "id": "kEmc2lD9Mbg5"
      },
      "execution_count": null,
      "outputs": []
    },
    {
      "cell_type": "code",
      "source": [
        "#Model 3\n",
        "model = 3\n",
        "#Accuracy 92 percent (Gives best results amongst these models)\n",
        "def init_params():\n",
        "    W1 = np.random.rand(128, 784) - 0.5\n",
        "    b1 = np.random.rand(128, 1) - 0.5\n",
        "    W2 = np.random.rand(64, 128) - 0.5\n",
        "    b2 = np.random.rand(64, 1) - 0.5\n",
        "    W3 = np.random.rand(10, 64) - 0.5\n",
        "    b3 = np.random.rand(10, 1) - 0.5\n",
        "    return W1, b1, W2, b2, W3, b3\n",
        "\n",
        "def ReLU(Z):\n",
        "    return np.maximum(0, Z)\n",
        "\n",
        "def softmax(Z):\n",
        "    expZ = np.exp(Z-np.max(Z, axis=0, keepdims=True))\n",
        "    return expZ / np.sum(expZ, axis=0, keepdims=True)\n",
        "\n",
        "def forward_prop(W1, b1, W2, b2, W3, b3, X):\n",
        "    Z1 = W1.dot(X) + b1\n",
        "    A1 = ReLU(Z1)\n",
        "    Z2 = W2.dot(A1) + b2\n",
        "    A2 = ReLU(Z2)\n",
        "    Z3 = W3.dot(A2) + b3\n",
        "    A3 = softmax(Z3)\n",
        "    return Z1, A1, Z2, A2, Z3, A3\n",
        "\n",
        "def one_hot(Y):\n",
        "    one_hot_Y = np.zeros((Y.size, Y.max()+1))\n",
        "    one_hot_Y[np.arange(Y.size), Y] = 1\n",
        "    return one_hot_Y.T\n",
        "\n",
        "def deri_ReLU(Z):\n",
        "    return Z > 0\n",
        "\n",
        "def back_prop(Z1, A1, Z2, A2, Z3, A3, W2, W3, X, Y):\n",
        "    m = Y.size\n",
        "    one_hot_Y = one_hot(Y)\n",
        "\n",
        "    dZ3 = A3 - one_hot_Y\n",
        "    dW3 = (1/m)*dZ3.dot(A2.T)\n",
        "    db3 = (1/m)*np.sum(dZ3, axis=1,keepdims=True)\n",
        "    dZ2 = W3.T.dot(dZ3) * deri_ReLU(Z2)\n",
        "    dW2 = (1/m)*dZ2.dot(A1.T)\n",
        "    db2 = (1/m)* np.sum(dZ2, axis=1, keepdims=True)\n",
        "\n",
        "    dZ1 = W2.T.dot(dZ2)* deri_ReLU(Z1)\n",
        "    dW1 = (1/m) * dZ1.dot(X.T)\n",
        "    db1 = (1/m) *np.sum(dZ1, axis=1,keepdims=True)\n",
        "\n",
        "    return dW1, db1, dW2, db2, dW3, db3\n",
        "\n",
        "def update_params(W1, b1, W2, b2, W3, b3,\n",
        "                  dW1, db1, dW2, db2, dW3, db3, alpha):\n",
        "    W1 = W1-alpha*dW1\n",
        "    b1 = b1-alpha*db1\n",
        "    W2 = W2-alpha*dW2\n",
        "    b2 = b2-alpha*db2\n",
        "    W3 = W3-alpha* dW3\n",
        "    b3 = b3-alpha * db3\n",
        "    return W1, b1, W2, b2, W3, b3"
      ],
      "metadata": {
        "id": "a2EMyRy6uyZr"
      },
      "execution_count": null,
      "outputs": []
    },
    {
      "cell_type": "code",
      "source": [
        "# #Model 4\n",
        "# #Overall Accuracy is 63 percent\n",
        "# model = 4\n",
        "# def init_params():\n",
        "#     W1 = np.random.rand(128, 784) - 0.5\n",
        "#     b1 = np.random.rand(128, 1) - 0.5\n",
        "#     W2 = np.random.rand(64, 128) - 0.5\n",
        "#     b2 = np.random.rand(64, 1) - 0.5\n",
        "#     W3 = np.random.rand(10, 64) - 0.5\n",
        "#     b3 = np.random.rand(10, 1) - 0.5\n",
        "#     return W1, b1, W2, b2, W3, b3\n",
        "\n",
        "# def ReLU(Z):\n",
        "#     return np.maximum(0, Z)\n",
        "\n",
        "# def softmax(Z):\n",
        "#     expZ = np.exp(Z - np.max(Z, axis=0, keepdims=True))\n",
        "#     return expZ / np.sum(expZ, axis=0, keepdims=True)\n",
        "\n",
        "# def forward_prop(W1, b1, W2, b2, W3, b3, X):\n",
        "#     Z1 = W1.dot(X) + b1\n",
        "#     A1 = ReLU(Z1)\n",
        "#     Z2 = W2.dot(A1) + b2\n",
        "#     A2 = ReLU(Z2)\n",
        "#     Z3 = W3.dot(A2) + b3\n",
        "#     A3 = softmax(Z3)\n",
        "#     return Z1, A1, Z2, A2, Z3, A3\n",
        "\n",
        "# def one_hot(Y):\n",
        "#     one_hot_Y = np.zeros((Y.size, Y.max()+1))\n",
        "#     one_hot_Y[np.arange(Y.size), Y] = 1\n",
        "#     return one_hot_Y.T\n",
        "\n",
        "# def deri_ReLU(Z):\n",
        "#     return Z > 0\n",
        "\n",
        "# def back_prop(Z1, A1, Z2, A2, Z3, A3, W2, W3, X, Y):\n",
        "#     m = Y.size\n",
        "#     one_hot_Y = one_hot(Y)\n",
        "#     dZ3 = 2 * (A3 - one_hot_Y)/m\n",
        "#     dW3 = dZ3.dot(A2.T)\n",
        "#     db3 = np.sum(dZ3, axis=1, keepdims=True)\n",
        "\n",
        "#     dZ2 = W3.T.dot(dZ3) * deri_ReLU(Z2)\n",
        "#     dW2 = (1/m)*dZ2.dot(A1.T)\n",
        "#     db2 = (1/m)*np.sum(dZ2, axis=1, keepdims=True)\n",
        "\n",
        "#     dZ1 = W2.T.dot(dZ2)*deri_ReLU(Z1)\n",
        "#     dW1 = (1/m)*dZ1.dot(X.T)\n",
        "#     db1 = (1/m)* np.sum(dZ1, axis=1, keepdims=True)\n",
        "\n",
        "#     return dW1, db1, dW2, db2, dW3, db3\n",
        "\n",
        "# def update_params(W1, b1, W2, b2, W3, b3,\n",
        "#                   dW1, db1, dW2, db2, dW3, db3, alpha):\n",
        "#     W1 = W1-alpha*dW1\n",
        "#     b1 = b1-alpha*db1\n",
        "#     W2 = W2-alpha*dW2\n",
        "#     b2 = b2-alpha*db2\n",
        "#     W3 = W3-alpha* dW3\n",
        "#     b3 = b3-alpha * db3\n",
        "#     return W1, b1, W2, b2, W3, b3"
      ],
      "metadata": {
        "id": "NW4SAe5r5dqL"
      },
      "execution_count": null,
      "outputs": []
    },
    {
      "cell_type": "markdown",
      "source": [
        "### 3. Loss for visualization"
      ],
      "metadata": {
        "id": "yzkzNqPFOcb8"
      }
    },
    {
      "cell_type": "code",
      "source": [
        "def compute_mse_loss(A3, Y):\n",
        "    m = Y.size\n",
        "    one_hot_Y = one_hot(Y)\n",
        "    loss = np.sum((A3- one_hot_Y)**2)/m\n",
        "    return loss"
      ],
      "metadata": {
        "id": "77AsoeVvXXNy"
      },
      "execution_count": null,
      "outputs": []
    },
    {
      "cell_type": "code",
      "source": [
        "def compute_cross_entropy_loss(A3, Y):\n",
        "    m = Y.size\n",
        "    one_hot_Y = one_hot(Y)\n",
        "    #Adding 1e-8 to avoid 0 in log\n",
        "    log_probs = np.log(A3 + 1e-8)\n",
        "    loss = -np.sum(one_hot_Y * log_probs) / m\n",
        "    return loss"
      ],
      "metadata": {
        "id": "YGHIW5ckXL6S"
      },
      "execution_count": null,
      "outputs": []
    },
    {
      "cell_type": "code",
      "source": [
        "# def get_predictions(A2):\n",
        "#   return np.argmax(A2, 0)\n",
        "\n",
        "# def get_accuracy(predictions, Y):\n",
        "#   print(predictions, Y)\n",
        "#   return np.sum(predictions == Y)/Y.size\n",
        "\n",
        "# def gradient_descent(X, Y, iterations, alpha):\n",
        "#   W1, b1, W2, b2 = init_params()\n",
        "#   for i in range(iterations):\n",
        "#     Z1, A1, Z2, A2 = forward_prop(W1, b1, W2, b2, X)\n",
        "#     dW1, db1, dW2, db2 = back_prop(Z1, A1, Z2, A2, W2, X, Y)\n",
        "#     W1, b1, W2, b2 = update_params(W1, b1, W2, b2, dW1, db1, dW2, db2, alpha)\n",
        "#     if i%50 == 0:\n",
        "#       print(\"Iteration: \", i)\n",
        "#       print(\"Accuracy Percentage: \", 100* get_accuracy(get_predictions(A2), Y))\n",
        "\n",
        "#   return W1, b1, W2, b2"
      ],
      "metadata": {
        "id": "jjpTnm86CuFP"
      },
      "execution_count": null,
      "outputs": []
    },
    {
      "cell_type": "markdown",
      "source": [
        "### 4. Gradient Descent"
      ],
      "metadata": {
        "id": "CRaKMOhCOhJX"
      }
    },
    {
      "cell_type": "code",
      "source": [
        "def get_predictions(A3):\n",
        "    return np.argmax(A3, 0)\n",
        "\n",
        "def get_accuracy(predictions, Y):\n",
        "    return np.sum(predictions == Y) / Y.size\n",
        "\n",
        "def gradient_descent(X, Y, iterations, alpha, loss_type=\"cross_entropy\"):\n",
        "    W1, b1, W2, b2, W3, b3 = init_params()\n",
        "    losses = []\n",
        "    for i in range(iterations):\n",
        "        Z1, A1, Z2, A2, Z3, A3 = forward_prop(W1,b1,W2,b2, W3, b3, X)\n",
        "        dW1, db1, dW2, db2, dW3, db3 = back_prop(Z1, A1, Z2, A2,Z3, A3, W2, W3, X,Y)\n",
        "        W1, b1, W2, b2, W3, b3 = update_params(W1, b1,W2,b2, W3, b3,dW1,db1, dW2,db2, dW3, db3,alpha)\n",
        "        if i % 50 == 0:\n",
        "            acc = get_accuracy(get_predictions(A3), Y)\n",
        "            print(\"Iteration:\", i)\n",
        "            if loss_type == \"mse\":\n",
        "                loss = compute_mse_loss(A3, Y)\n",
        "            else:\n",
        "                loss = compute_cross_entropy_loss(A3, Y)\n",
        "            losses.append(loss)\n",
        "            print(f\"Iteration {i} | Loss: {loss:.4f} | Accuracy: {acc*100:.2f}%\")\n",
        "\n",
        "    return W1, b1, W2, b2, W3, b3, losses"
      ],
      "metadata": {
        "id": "MSZP9yMtxXXA"
      },
      "execution_count": null,
      "outputs": []
    },
    {
      "cell_type": "code",
      "source": [
        "#stochastic gradient descent (sgd): Was running too slow on my device and not much change in loss\n",
        "#Also would have to change one_hot_Y code a bit to fit the size\n",
        "# def get_predictions(A2):\n",
        "#   return np.argmax(A2, 0)\n",
        "\n",
        "# def get_accuracy(predictions, Y):\n",
        "#   print(predictions, Y)\n",
        "#   return np.sum(predictions == Y)/Y.size\n",
        "\n",
        "# def gradient_descent_sgd(X, Y, iterations, alpha):\n",
        "#     W1, b1, W2, b2, W3, b3 = init_params()\n",
        "#     m = X.shape[1]\n",
        "\n",
        "#     for i in range(iterations):\n",
        "#         for j in range(m):\n",
        "#           x = X[:, j].reshape(-1, 1)\n",
        "#           y = Y[j]  # changed from np.array([Y[j]])\n",
        "#           Z1, A1, Z2, A2, Z3, A3 = forward_prop(W1, b1, W2, b2, W3, b3, x)\n",
        "#           dW1, db1, dW2, db2, dW3, db3 = back_prop(Z1, A1, Z2, A2, Z3, A3, W3, x, y)\n",
        "#           W1, b1, W2, b2, W3, b3 = update_params(W1, b1, W2, b2, W3, b3, dW1, db1, dW2, db2, dW3, db3, alpha)\n",
        "\n",
        "#         if i % 50 == 0:\n",
        "#             _, _, _, A2_all = forward_prop(W1, b1, W2, b2, W3, b3, X)\n",
        "#             acc = get_accuracy(get_predictions(A2_all), Y)\n",
        "#             print(f\"Epoch {i}: Accuracy = {acc * 100:.2f}%\")\n",
        "\n",
        "#     return W1, b1, W2, b2, W3, b3\n"
      ],
      "metadata": {
        "id": "gHoOMk02S3qc"
      },
      "execution_count": null,
      "outputs": []
    },
    {
      "cell_type": "code",
      "source": [
        "def plot_loss(losses, loss_type):\n",
        "    plt.figure(figsize=(8, 5))\n",
        "    plt.plot(losses, label=f'{loss_type.capitalize()} Loss', color='blue')\n",
        "    plt.xlabel(\"Iterations\")\n",
        "    plt.ylabel(\"Loss\")\n",
        "    plt.title(f\"{loss_type.capitalize()} Loss over Iterations\")\n",
        "    plt.legend()\n",
        "    plt.grid(True)\n",
        "    plt.tight_layout()\n",
        "    plt.show()"
      ],
      "metadata": {
        "id": "oMfCzkutUUVL"
      },
      "execution_count": null,
      "outputs": []
    },
    {
      "cell_type": "code",
      "source": [
        "if model == 4:\n",
        "  W1, b1, W2, b2, W3, b3, losses = gradient_descent(X_train, Y_train, 1001, 0.1, loss_type = \"mse\")\n",
        "  plot_loss(losses, loss_type=\"mse\")\n",
        "else:\n",
        "  W1, b1, W2, b2, W3, b3, losses = gradient_descent(X_train, Y_train, 1001, 0.1, loss_type=\"cross_entropy\")\n",
        "  plot_loss(losses, loss_type=\"cross_entropy\")"
      ],
      "metadata": {
        "colab": {
          "base_uri": "https://localhost:8080/",
          "height": 1000
        },
        "id": "omk0IDgFD8Yw",
        "outputId": "b6bbe9e7-8cdc-4459-ff1c-ba852b12af22"
      },
      "execution_count": null,
      "outputs": [
        {
          "output_type": "stream",
          "name": "stdout",
          "text": [
            "Iteration: 0\n",
            "Iteration 0 | Loss: 13.3371 | Accuracy: 7.86%\n",
            "Iteration: 50\n",
            "Iteration 50 | Loss: 0.8049 | Accuracy: 75.14%\n",
            "Iteration: 100\n",
            "Iteration 100 | Loss: 0.5862 | Accuracy: 82.07%\n",
            "Iteration: 150\n",
            "Iteration 150 | Loss: 0.4869 | Accuracy: 85.32%\n",
            "Iteration: 200\n",
            "Iteration 200 | Loss: 0.4260 | Accuracy: 87.18%\n",
            "Iteration: 250\n",
            "Iteration 250 | Loss: 0.3838 | Accuracy: 88.32%\n",
            "Iteration: 300\n",
            "Iteration 300 | Loss: 0.3524 | Accuracy: 89.29%\n",
            "Iteration: 350\n",
            "Iteration 350 | Loss: 0.3277 | Accuracy: 90.17%\n",
            "Iteration: 400\n",
            "Iteration 400 | Loss: 0.3077 | Accuracy: 90.78%\n",
            "Iteration: 450\n",
            "Iteration 450 | Loss: 0.2910 | Accuracy: 91.38%\n",
            "Iteration: 500\n",
            "Iteration 500 | Loss: 0.2768 | Accuracy: 91.81%\n",
            "Iteration: 550\n",
            "Iteration 550 | Loss: 0.2645 | Accuracy: 92.16%\n",
            "Iteration: 600\n",
            "Iteration 600 | Loss: 0.2537 | Accuracy: 92.54%\n",
            "Iteration: 650\n",
            "Iteration 650 | Loss: 0.2441 | Accuracy: 92.82%\n",
            "Iteration: 700\n",
            "Iteration 700 | Loss: 0.2356 | Accuracy: 93.04%\n",
            "Iteration: 750\n",
            "Iteration 750 | Loss: 0.2278 | Accuracy: 93.25%\n",
            "Iteration: 800\n",
            "Iteration 800 | Loss: 0.2208 | Accuracy: 93.41%\n",
            "Iteration: 850\n",
            "Iteration 850 | Loss: 0.2144 | Accuracy: 93.63%\n",
            "Iteration: 900\n",
            "Iteration 900 | Loss: 0.2084 | Accuracy: 93.79%\n",
            "Iteration: 950\n",
            "Iteration 950 | Loss: 0.2028 | Accuracy: 93.94%\n",
            "Iteration: 1000\n",
            "Iteration 1000 | Loss: 0.1977 | Accuracy: 94.11%\n"
          ]
        },
        {
          "output_type": "display_data",
          "data": {
            "text/plain": [
              "<Figure size 800x500 with 1 Axes>"
            ],
            "image/png": "[encoded data removed]"
          },
          "metadata": {}
        }
      ]
    },
    {
      "cell_type": "code",
      "source": [],
      "metadata": {
        "id": "U6D245_oURB8"
      },
      "execution_count": null,
      "outputs": []
    },
    {
      "cell_type": "markdown",
      "source": [
        "### 5. Cross Validation Set"
      ],
      "metadata": {
        "id": "jf1bdp7xKNbx"
      }
    },
    {
      "cell_type": "code",
      "source": [
        "X_val = X_dev\n",
        "Y_val = Y_dev"
      ],
      "metadata": {
        "id": "DqBDYaf3OsM6"
      },
      "execution_count": null,
      "outputs": []
    },
    {
      "cell_type": "code",
      "source": [
        "def make_predictions(X, W1, b1, W2, b2, W3, b3):\n",
        "    _, _, _, _, _, A3 = forward_prop(W1, b1, W2, b2, W3, b3, X)\n",
        "    predictions = get_predictions(A3)\n",
        "    return predictions\n",
        "\n",
        "def test_prediction(index, W1, b1, W2, b2, W3, b3):\n",
        "    current_image = X_val[:,index,None]\n",
        "    prediction = make_predictions(X_val[:,index,None], W1,b1,W2, b2, W3, b3)\n",
        "    label = Y_val[index]\n",
        "    print(\"Prediction: \", prediction)\n",
        "    print(\"Label: \", label)\n",
        "\n",
        "    current_image = current_image.reshape((28, 28))*255\n",
        "    plt.gray()\n",
        "    plt.imshow(current_image, interpolation='nearest')\n",
        "    plt.show()"
      ],
      "metadata": {
        "id": "kpf2nOgRFP05"
      },
      "execution_count": null,
      "outputs": []
    },
    {
      "cell_type": "code",
      "source": [
        "for i in range(10):\n",
        "  test_prediction(i, W1, b1, W2, b2, W3, b3)"
      ],
      "metadata": {
        "colab": {
          "base_uri": "https://localhost:8080/",
          "height": 1000
        },
        "id": "dVIDHFxsJ8_y",
        "outputId": "46be75fd-6921-43b0-ca14-b1e739798322"
      },
      "execution_count": null,
      "outputs": [
        {
          "output_type": "stream",
          "name": "stdout",
          "text": [
            "Prediction:  [3]\n",
            "Label:  3\n"
          ]
        },
        {
          "output_type": "display_data",
          "data": {
            "text/plain": [
              "<Figure size 640x480 with 1 Axes>"
            ],
            "image/png": "[encoded data removed]"
          },
          "metadata": {}
        },
        {
          "output_type": "stream",
          "name": "stdout",
          "text": [
            "Prediction:  [7]\n",
            "Label:  7\n"
          ]
        },
        {
          "output_type": "display_data",
          "data": {
            "text/plain": [
              "<Figure size 640x480 with 1 Axes>"
            ],
            "image/png": "[encoded data removed]"
          },
          "metadata": {}
        },
        {
          "output_type": "stream",
          "name": "stdout",
          "text": [
            "Prediction:  [1]\n",
            "Label:  1\n"
          ]
        },
        {
          "output_type": "display_data",
          "data": {
            "text/plain": [
              "<Figure size 640x480 with 1 Axes>"
            ],
            "image/png": "[encoded data removed]"
          },
          "metadata": {}
        },
        {
          "output_type": "stream",
          "name": "stdout",
          "text": [
            "Prediction:  [8]\n",
            "Label:  2\n"
          ]
        },
        {
          "output_type": "display_data",
          "data": {
            "text/plain": [
              "<Figure size 640x480 with 1 Axes>"
            ],
            "image/png": "[encoded data removed]"
          },
          "metadata": {}
        },
        {
          "output_type": "stream",
          "name": "stdout",
          "text": [
            "Prediction:  [7]\n",
            "Label:  7\n"
          ]
        },
        {
          "output_type": "display_data",
          "data": {
            "text/plain": [
              "<Figure size 640x480 with 1 Axes>"
            ],
            "image/png": "[encoded data removed]"
          },
          "metadata": {}
        },
        {
          "output_type": "stream",
          "name": "stdout",
          "text": [
            "Prediction:  [1]\n",
            "Label:  1\n"
          ]
        },
        {
          "output_type": "display_data",
          "data": {
            "text/plain": [
              "<Figure size 640x480 with 1 Axes>"
            ],
            "image/png": "[encoded data removed]"
          },
          "metadata": {}
        },
        {
          "output_type": "stream",
          "name": "stdout",
          "text": [
            "Prediction:  [3]\n",
            "Label:  3\n"
          ]
        },
        {
          "output_type": "display_data",
          "data": {
            "text/plain": [
              "<Figure size 640x480 with 1 Axes>"
            ],
            "image/png": "[encoded data removed]"
          },
          "metadata": {}
        },
        {
          "output_type": "stream",
          "name": "stdout",
          "text": [
            "Prediction:  [1]\n",
            "Label:  1\n"
          ]
        },
        {
          "output_type": "display_data",
          "data": {
            "text/plain": [
              "<Figure size 640x480 with 1 Axes>"
            ],
            "image/png": "[encoded data removed]"
          },
          "metadata": {}
        },
        {
          "output_type": "stream",
          "name": "stdout",
          "text": [
            "Prediction:  [6]\n",
            "Label:  2\n"
          ]
        },
        {
          "output_type": "display_data",
          "data": {
            "text/plain": [
              "<Figure size 640x480 with 1 Axes>"
            ],
            "image/png": "[encoded data removed]"
          },
          "metadata": {}
        },
        {
          "output_type": "stream",
          "name": "stdout",
          "text": [
            "Prediction:  [4]\n",
            "Label:  4\n"
          ]
        },
        {
          "output_type": "display_data",
          "data": {
            "text/plain": [
              "<Figure size 640x480 with 1 Axes>"
            ],
            "image/png": "[encoded data removed]"
          },
          "metadata": {}
        }
      ]
    },
    {
      "cell_type": "code",
      "source": [
        "dev_predictions = make_predictions(X_dev, W1, b1, W2, b2, W3, b3)\n",
        "val_loss = compute_cross_entropy_loss(dev_predictions, Y_val)\n",
        "print(f\"Cross Validation Set Loss: {val_loss}\")\n",
        "100*get_accuracy(dev_predictions, Y_dev)"
      ],
      "metadata": {
        "colab": {
          "base_uri": "https://localhost:8080/"
        },
        "id": "xucNYT8HKCf3",
        "outputId": "a2798e68-25fa-4367-d056-49472f8fb8cc"
      },
      "execution_count": null,
      "outputs": [
        {
          "output_type": "stream",
          "name": "stdout",
          "text": [
            "Cross Validation Set Loss: 0.312044763381604\n"
          ]
        },
        {
          "output_type": "execute_result",
          "data": {
            "text/plain": [
              "np.float64(93.30000000000001)"
            ]
          },
          "metadata": {},
          "execution_count": 64
        }
      ]
    },
    {
      "cell_type": "markdown",
      "source": [
        "### 6. Predictions on test.csv"
      ],
      "metadata": {
        "id": "UHVpldXhRhnI"
      }
    },
    {
      "cell_type": "code",
      "source": [
        "data2 = pd.read_csv('/content/test.csv')"
      ],
      "metadata": {
        "id": "OklcLBs_KT6g"
      },
      "execution_count": null,
      "outputs": []
    },
    {
      "cell_type": "code",
      "source": [
        "data2 = np.array(data2)\n",
        "m, n = data2.shape\n",
        "data_test = data2[:].T\n",
        "X_test = data_test[0:n]\n",
        "X_test = X_test / 255.\n",
        "_,m_train = X_test.shape"
      ],
      "metadata": {
        "id": "wBequo48E-hU"
      },
      "execution_count": null,
      "outputs": []
    },
    {
      "cell_type": "code",
      "source": [
        "def make_predictions(X, W1, b1, W2, b2, W3, b3):\n",
        "    _, _, _, _, _, A3 = forward_prop(W1, b1, W2, b2, W3, b3, X)\n",
        "    predictions = get_predictions(A3)\n",
        "    return predictions\n",
        "\n",
        "def test_prediction2(index, W1, b1, W2, b2, W3, b3):\n",
        "    current_image = X_test[:, index, None]\n",
        "    prediction = make_predictions(X_test[:, index, None], W1, b1, W2, b2, W3, b3)\n",
        "    print(\"Prediction: \", prediction)\n",
        "\n",
        "    current_image = current_image.reshape((28, 28)) * 255\n",
        "    plt.gray()\n",
        "    plt.imshow(current_image, interpolation='nearest')\n",
        "    plt.show()"
      ],
      "metadata": {
        "id": "ucIZJdNhG--7"
      },
      "execution_count": null,
      "outputs": []
    },
    {
      "cell_type": "code",
      "source": [
        "for i in range(10):\n",
        "  test_prediction2(i, W1, b1, W2, b2, W3, b3)"
      ],
      "metadata": {
        "colab": {
          "base_uri": "https://localhost:8080/",
          "height": 1000
        },
        "id": "pUir1qsPH2zF",
        "outputId": "a5d2fed1-851f-4a37-af42-de418d2eb733"
      },
      "execution_count": null,
      "outputs": [
        {
          "output_type": "stream",
          "name": "stdout",
          "text": [
            "Prediction:  [2]\n"
          ]
        },
        {
          "output_type": "display_data",
          "data": {
            "text/plain": [
              "<Figure size 640x480 with 1 Axes>"
            ],
            "image/png": "[encoded data removed]"
          },
          "metadata": {}
        },
        {
          "output_type": "stream",
          "name": "stdout",
          "text": [
            "Prediction:  [0]\n"
          ]
        },
        {
          "output_type": "display_data",
          "data": {
            "text/plain": [
              "<Figure size 640x480 with 1 Axes>"
            ],
            "image/png": "[encoded data removed]"
          },
          "metadata": {}
        },
        {
          "output_type": "stream",
          "name": "stdout",
          "text": [
            "Prediction:  [9]\n"
          ]
        },
        {
          "output_type": "display_data",
          "data": {
            "text/plain": [
              "<Figure size 640x480 with 1 Axes>"
            ],
            "image/png": "[encoded data removed]"
          },
          "metadata": {}
        },
        {
          "output_type": "stream",
          "name": "stdout",
          "text": [
            "Prediction:  [2]\n"
          ]
        },
        {
          "output_type": "display_data",
          "data": {
            "text/plain": [
              "<Figure size 640x480 with 1 Axes>"
            ],
            "image/png": "[encoded data removed]"
          },
          "metadata": {}
        },
        {
          "output_type": "stream",
          "name": "stdout",
          "text": [
            "Prediction:  [2]\n"
          ]
        },
        {
          "output_type": "display_data",
          "data": {
            "text/plain": [
              "<Figure size 640x480 with 1 Axes>"
            ],
            "image/png": "[encoded data removed]"
          },
          "metadata": {}
        },
        {
          "output_type": "stream",
          "name": "stdout",
          "text": [
            "Prediction:  [7]\n"
          ]
        },
        {
          "output_type": "display_data",
          "data": {
            "text/plain": [
              "<Figure size 640x480 with 1 Axes>"
            ],
            "image/png": "[encoded data removed]"
          },
          "metadata": {}
        },
        {
          "output_type": "stream",
          "name": "stdout",
          "text": [
            "Prediction:  [0]\n"
          ]
        },
        {
          "output_type": "display_data",
          "data": {
            "text/plain": [
              "<Figure size 640x480 with 1 Axes>"
            ],
            "image/png": "[encoded data removed]"
          },
          "metadata": {}
        },
        {
          "output_type": "stream",
          "name": "stdout",
          "text": [
            "Prediction:  [3]\n"
          ]
        },
        {
          "output_type": "display_data",
          "data": {
            "text/plain": [
              "<Figure size 640x480 with 1 Axes>"
            ],
            "image/png": "[encoded data removed]"
          },
          "metadata": {}
        },
        {
          "output_type": "stream",
          "name": "stdout",
          "text": [
            "Prediction:  [0]\n"
          ]
        },
        {
          "output_type": "display_data",
          "data": {
            "text/plain": [
              "<Figure size 640x480 with 1 Axes>"
            ],
            "image/png": "[encoded data removed]"
          },
          "metadata": {}
        },
        {
          "output_type": "stream",
          "name": "stdout",
          "text": [
            "Prediction:  [3]\n"
          ]
        },
        {
          "output_type": "display_data",
          "data": {
            "text/plain": [
              "<Figure size 640x480 with 1 Axes>"
            ],
            "image/png": "[encoded data removed]"
          },
          "metadata": {}
        }
      ]
    },
    {
      "cell_type": "markdown",
      "source": [
        "### 7. Filing Submission.csv"
      ],
      "metadata": {
        "id": "JwjHQLV6TdH7"
      }
    },
    {
      "cell_type": "code",
      "source": [
        "predictions = make_predictions(X_test, W1, b1, W2, b2, W3, b3)\n",
        "submission = pd.read_csv(\"/content/sample_submission.csv\")\n",
        "submission['Label'] = predictions\n",
        "submission.to_csv(\"submission.csv\", index=False)\n",
        "print(\"submission.csv generated successfully!\")"
      ],
      "metadata": {
        "id": "qR2_sP5sH8b7",
        "colab": {
          "base_uri": "https://localhost:8080/"
        },
        "outputId": "062caadd-8318-4868-81ed-0143dbb44d7b"
      },
      "execution_count": null,
      "outputs": [
        {
          "output_type": "stream",
          "name": "stdout",
          "text": [
            "submission.csv generated successfully!\n"
          ]
        }
      ]
    },
    {
      "cell_type": "code",
      "source": [
        "#Some checks to verify the vlaues are correct:\n",
        "print(submission.head())\n",
        "print(submission['Label'].value_counts())"
      ],
      "metadata": {
        "colab": {
          "base_uri": "https://localhost:8080/"
        },
        "id": "G-sSLxkYTrfx",
        "outputId": "082df26d-e960-42d8-a8f5-250b73a87696"
      },
      "execution_count": null,
      "outputs": [
        {
          "output_type": "stream",
          "name": "stdout",
          "text": [
            "   ImageId  Label\n",
            "0        1      2\n",
            "1        2      0\n",
            "2        3      9\n",
            "3        4      2\n",
            "4        5      2\n",
            "Label\n",
            "1    3204\n",
            "7    2917\n",
            "3    2808\n",
            "9    2807\n",
            "6    2780\n",
            "2    2777\n",
            "0    2748\n",
            "4    2740\n",
            "8    2717\n",
            "5    2502\n",
            "Name: count, dtype: int64\n"
          ]
        }
      ]
    },
    {
      "cell_type": "code",
      "source": [],
      "metadata": {
        "id": "b_K4L-IKTs23"
      },
      "execution_count": null,
      "outputs": []
    }
  ]
}